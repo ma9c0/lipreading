{
  "cells": [
    {
      "cell_type": "code",
      "execution_count": 1,
      "metadata": {
        "id": "2u8iWtNuA0Se"
      },
      "outputs": [],
      "source": [
        "import gdown"
      ]
    },
    {
      "cell_type": "code",
      "source": [
        "from google.colab import drive\n",
        "drive.mount('/content/drive')"
      ],
      "metadata": {
        "colab": {
          "base_uri": "https://localhost:8080/"
        },
        "id": "RJWFAFkzA23f",
        "outputId": "cd495d65-3ea1-448e-b3aa-a412477fc95c"
      },
      "execution_count": 3,
      "outputs": [
        {
          "output_type": "stream",
          "name": "stdout",
          "text": [
            "Mounted at /content/drive\n"
          ]
        }
      ]
    },
    {
      "cell_type": "code",
      "execution_count": 2,
      "metadata": {
        "id": "-DexCZXxA0Sh"
      },
      "outputs": [],
      "source": [
        "import os\n",
        "import cv2\n",
        "import tensorflow as tf\n",
        "from typing import List\n",
        "from matplotlib import pyplot as plt\n",
        "import imageio\n",
        "import numpy as np"
      ]
    },
    {
      "cell_type": "code",
      "execution_count": 4,
      "metadata": {
        "id": "B9agnbX9A0Si"
      },
      "outputs": [],
      "source": [
        "def CTCLoss(y_true, y_pred):\n",
        "    batch_len = tf.cast(tf.shape(y_true)[0], dtype=\"int64\")\n",
        "    input_length = tf.cast(tf.shape(y_pred)[1], dtype=\"int64\")\n",
        "    label_length = tf.cast(tf.shape(y_true)[1], dtype=\"int64\")\n",
        "\n",
        "    input_length = input_length * tf.ones(shape=(batch_len, 1), dtype=\"int64\")\n",
        "    label_length = label_length * tf.ones(shape=(batch_len, 1), dtype=\"int64\")\n",
        "\n",
        "    loss = tf.keras.backend.ctc_batch_cost(y_true, y_pred, input_length, label_length)\n",
        "    return loss"
      ]
    },
    {
      "cell_type": "code",
      "execution_count": 5,
      "metadata": {
        "id": "Ms6Cdov8A0Sj"
      },
      "outputs": [],
      "source": [
        "model = tf.keras.models.load_model(\"/content/drive/MyDrive/lipnet01.h5\", custom_objects={'CTCLoss': CTCLoss})"
      ]
    },
    {
      "cell_type": "code",
      "source": [
        "model.summary()"
      ],
      "metadata": {
        "id": "WP3zG-SBCpbH"
      },
      "execution_count": null,
      "outputs": []
    },
    {
      "cell_type": "code",
      "source": [
        "mouthxml = '/content/drive/MyDrive/haarcascade_mcs_mouth.xml'\n",
        "mouth_cascade = cv2.CascadeClassifier(mouthxml)"
      ],
      "metadata": {
        "id": "jtyZLaW_uejX"
      },
      "execution_count": 14,
      "outputs": []
    },
    {
      "cell_type": "code",
      "source": [
        "mouth_cascade.empty()"
      ],
      "metadata": {
        "colab": {
          "base_uri": "https://localhost:8080/"
        },
        "id": "tptgNNGouocd",
        "outputId": "ffc88509-b904-4ae0-8447-d97bd82187ed"
      },
      "execution_count": 81,
      "outputs": [
        {
          "output_type": "execute_result",
          "data": {
            "text/plain": [
              "False"
            ]
          },
          "metadata": {},
          "execution_count": 81
        }
      ]
    },
    {
      "cell_type": "code",
      "source": [
        "def load_video(path:str) -> List[float]:\n",
        "  ds_factor = 0.5\n",
        "  cap = cv2.VideoCapture(path)\n",
        "  frames = []\n",
        "\n",
        "  while True:\n",
        "      ret, frame = cap.read()\n",
        "\n",
        "      if not ret:\n",
        "          break\n",
        "\n",
        "      frame = cv2.resize(frame, None, fx=ds_factor, fy=ds_factor, interpolation=cv2.INTER_AREA)\n",
        "\n",
        "      gray = cv2.cvtColor(frame, cv2.COLOR_BGR2GRAY)\n",
        "\n",
        "      mouth_rects = mouth_cascade.detectMultiScale(frame, 1.7, 11)\n",
        "      for x, y, w, h in mouth_rects:\n",
        "          y = int(y - 0.15 * h)\n",
        "          a = (100-h)/2\n",
        "          b = (200-w)/2\n",
        "          mouth_roi = tf.image.rgb_to_grayscale(frame[int(y-a):int(y+h+a), int(x-b):int(x+w+b)])\n",
        "          frames.append(mouth_roi)\n",
        "\n",
        "  cap.release()\n",
        "\n",
        "  # Convert the list of NumPy arrays to a NumPy array\n",
        "  frames_np = np.array(frames)\n",
        "\n",
        "  # Calculate mean and standard deviation\n",
        "  mean = np.mean(frames_np)\n",
        "  std = np.std(frames_np)\n",
        "\n",
        "  result = (frames_np - mean) / std\n",
        "\n",
        "  result = tf.convert_to_tensor(result, dtype=tf.float32)\n",
        "\n",
        "  return result"
      ],
      "metadata": {
        "id": "4qt9ETf659PM"
      },
      "execution_count": 107,
      "outputs": []
    },
    {
      "cell_type": "code",
      "source": [
        "result = load_video('/content/drive/MyDrive/test07.mp4')#replace with sample path"
      ],
      "metadata": {
        "id": "tdSX1qUqUq9y"
      },
      "execution_count": 108,
      "outputs": []
    },
    {
      "cell_type": "code",
      "source": [
        "result.shape"
      ],
      "metadata": {
        "colab": {
          "base_uri": "https://localhost:8080/"
        },
        "id": "jPx2G9XsFw2D",
        "outputId": "6c661bd7-ec50-4591-de9f-ad755745c383"
      },
      "execution_count": 109,
      "outputs": [
        {
          "output_type": "execute_result",
          "data": {
            "text/plain": [
              "TensorShape([149, 100, 200, 1])"
            ]
          },
          "metadata": {},
          "execution_count": 109
        }
      ]
    },
    {
      "cell_type": "code",
      "source": [
        "for x in range(len(result)):\n",
        "  plt.imshow(result[x])\n",
        "  plt.show()"
      ],
      "metadata": {
        "id": "ZSO5jmbVOGhS"
      },
      "execution_count": null,
      "outputs": []
    },
    {
      "cell_type": "code",
      "source": [
        "plt.imshow(result[120])\n",
        "plt.show()"
      ],
      "metadata": {
        "id": "lMDWpv_9EMe8"
      },
      "execution_count": null,
      "outputs": []
    },
    {
      "cell_type": "code",
      "source": [
        "result = np.expand_dims(result, axis=0)"
      ],
      "metadata": {
        "id": "EUaSQUL-E6Ef"
      },
      "execution_count": 95,
      "outputs": []
    },
    {
      "cell_type": "code",
      "source": [
        "# save clip as gif\n",
        "result_np_list = [frame.numpy() for frame in result]\n",
        "\n",
        "result_np_list = [np.squeeze(frame, axis=-1) for frame in result_np_list]\n",
        "\n",
        "imageio.mimsave('/content/drive/MyDrive/example.gif', result_np_list, fps=10)"
      ],
      "metadata": {
        "id": "XK26Wk5XUcXr"
      },
      "execution_count": null,
      "outputs": []
    },
    {
      "cell_type": "code",
      "source": [
        "model.input_shape"
      ],
      "metadata": {
        "colab": {
          "base_uri": "https://localhost:8080/"
        },
        "id": "e95amq6i2T6k",
        "outputId": "ec25b038-dc8d-4087-d8bc-8a5089a0a7ff"
      },
      "execution_count": 97,
      "outputs": [
        {
          "output_type": "execute_result",
          "data": {
            "text/plain": [
              "(None, None, 100, 200, 1)"
            ]
          },
          "metadata": {},
          "execution_count": 97
        }
      ]
    },
    {
      "cell_type": "code",
      "execution_count": 96,
      "metadata": {
        "id": "vKzgdomjA0Sm",
        "outputId": "f9eb23b1-9900-4699-def0-0743071a6f39",
        "colab": {
          "base_uri": "https://localhost:8080/"
        }
      },
      "outputs": [
        {
          "output_type": "execute_result",
          "data": {
            "text/plain": [
              "(1, 149, 100, 200, 1)"
            ]
          },
          "metadata": {},
          "execution_count": 96
        }
      ],
      "source": [
        "result.shape"
      ]
    },
    {
      "cell_type": "code",
      "execution_count": 98,
      "metadata": {
        "id": "hVSVSwojA0Sm",
        "outputId": "2ffeb152-b950-4232-f30a-aaf0d0725236",
        "colab": {
          "base_uri": "https://localhost:8080/"
        }
      },
      "outputs": [
        {
          "output_type": "stream",
          "name": "stdout",
          "text": [
            "1/1 [==============================] - 47s 47s/step\n"
          ]
        }
      ],
      "source": [
        "pred = model.predict(result)"
      ]
    },
    {
      "cell_type": "code",
      "source": [
        "pred"
      ],
      "metadata": {
        "colab": {
          "base_uri": "https://localhost:8080/"
        },
        "id": "jZ-z0N7r6neu",
        "outputId": "9aa62b2c-6ab9-416a-ac3a-649f54806ff1"
      },
      "execution_count": 99,
      "outputs": [
        {
          "output_type": "execute_result",
          "data": {
            "text/plain": [
              "array([[[2.1164941e-04, 1.9699565e-04, 6.3117141e-01, ...,\n",
              "         4.7296556e-08, 5.5390684e-04, 8.9820666e-04],\n",
              "        [6.5767963e-04, 7.6233624e-03, 3.3555835e-02, ...,\n",
              "         3.6350801e-08, 5.5706041e-04, 3.2721624e-02],\n",
              "        [1.0199876e-03, 1.0877026e-01, 2.8275617e-03, ...,\n",
              "         1.8010788e-08, 3.9134407e-03, 4.3451291e-02],\n",
              "        ...,\n",
              "        [9.6942329e-01, 5.6036555e-07, 7.1630261e-08, ...,\n",
              "         1.6275263e-09, 2.8182029e-07, 3.0426813e-02],\n",
              "        [6.3897215e-02, 1.2776152e-06, 1.5133725e-07, ...,\n",
              "         2.1523352e-09, 1.0015519e-06, 9.3575621e-01],\n",
              "        [9.8423886e-01, 1.0250112e-06, 2.2371279e-07, ...,\n",
              "         4.4527678e-08, 4.1456988e-07, 1.5639573e-02]]], dtype=float32)"
            ]
          },
          "metadata": {},
          "execution_count": 99
        }
      ]
    },
    {
      "cell_type": "code",
      "source": [
        "vocab = [x for x in \"abcdefghijklmnopqrstuvwxyz'?!123456789 \"]"
      ],
      "metadata": {
        "id": "7KGpEnMJFZ55"
      },
      "execution_count": 100,
      "outputs": []
    },
    {
      "cell_type": "code",
      "source": [
        "char_to_num = tf.keras.layers.StringLookup(vocabulary=vocab, oov_token=\"\")\n",
        "num_to_char = tf.keras.layers.StringLookup(\n",
        "    vocabulary=char_to_num.get_vocabulary(), oov_token=\"\", invert=True\n",
        ")"
      ],
      "metadata": {
        "id": "dsZBtr_eFXAI"
      },
      "execution_count": 101,
      "outputs": []
    },
    {
      "cell_type": "code",
      "source": [
        "tf.strings.reduce_join([num_to_char(x) for x in tf.argmax(pred[0],axis=1)])"
      ],
      "metadata": {
        "colab": {
          "base_uri": "https://localhost:8080/"
        },
        "id": "OKowT7p4FOHo",
        "outputId": "6467944d-ed6c-4fdc-ae94-f7ff3aeb6134"
      },
      "execution_count": 102,
      "outputs": [
        {
          "output_type": "execute_result",
          "data": {
            "text/plain": [
              "<tf.Tensor: shape=(), dtype=string, numpy=b'ben    iieeee ainn     iieee   aggnnn'>"
            ]
          },
          "metadata": {},
          "execution_count": 102
        }
      ]
    }
  ],
  "metadata": {
    "kernelspec": {
      "display_name": "Python 3",
      "language": "python",
      "name": "python3"
    },
    "language_info": {
      "codemirror_mode": {
        "name": "ipython",
        "version": 3
      },
      "file_extension": ".py",
      "mimetype": "text/x-python",
      "name": "python",
      "nbconvert_exporter": "python",
      "pygments_lexer": "ipython3",
      "version": "3.10.13"
    },
    "colab": {
      "provenance": []
    }
  },
  "nbformat": 4,
  "nbformat_minor": 0
}