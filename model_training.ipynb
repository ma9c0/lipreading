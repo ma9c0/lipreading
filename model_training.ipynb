{
 "cells": [
  {
   "cell_type": "code",
   "execution_count": 126,
   "metadata": {},
   "outputs": [],
   "source": [
    "import sys\n",
    "import tensorflow.keras\n",
    "import tensorflow as tf\n",
    "import numpy as np\n",
    "import os\n",
    "import cv2\n",
    "from typing import List\n",
    "from matplotlib import pyplot as plt\n",
    "import imageio\n",
    "from tensorflow.keras.callbacks import TensorBoard\n"
   ]
  },
  {
   "cell_type": "code",
   "execution_count": 127,
   "metadata": {},
   "outputs": [],
   "source": [
    "gpus = tf.config.experimental.list_physical_devices('GPU')\n",
    "if gpus:\n",
    "    try:\n",
    "        for gpu in gpus:\n",
    "            tf.config.experimental.set_memory_growth(gpu, True)\n",
    "    except RuntimeError as e:\n",
    "        print(e)\n"
   ]
  },
  {
   "cell_type": "code",
   "execution_count": 128,
   "metadata": {},
   "outputs": [],
   "source": [
    "def load_video(path: str) -> List[float]:\n",
    "    cap = cv2.VideoCapture(path)\n",
    "    frames = []\n",
    "    for _ in range(int(cap.get(cv2.CAP_PROP_FRAME_COUNT))):\n",
    "        ret, frame = cap.read()\n",
    "        frame = tf.image.rgb_to_grayscale(cv2.cvtColor(frame, cv2.COLOR_BGR2RGB))\n",
    "        frames.append(frame[160:260, 50:250])\n",
    "    cap.release()\n",
    "    \n",
    "    mean = tf.math.reduce_mean(frames)\n",
    "    std = tf.math.reduce_std(tf.cast(frames, tf.float32))\n",
    "    \n",
    "    frames = tf.cast(frames, tf.float32)\n",
    "    mean = tf.cast(mean, tf.float32)\n",
    "    \n",
    "    result = (frames - mean) / std\n",
    "    \n",
    "    return result\n"
   ]
  },
  {
   "cell_type": "code",
   "execution_count": 129,
   "metadata": {},
   "outputs": [],
   "source": [
    "vocab = [x for x in \"abcdefghijklmnopqrstuvwxyz'?!123456789 \"]"
   ]
  },
  {
   "cell_type": "code",
   "execution_count": 130,
   "metadata": {},
   "outputs": [],
   "source": [
    "char_to_num = tf.keras.layers.StringLookup(vocabulary=vocab, oov_token=\"\")\n",
    "\n",
    "num_to_char = tf.keras.layers.StringLookup(vocabulary=char_to_num.get_vocabulary(), oov_token=\"\", invert = True)"
   ]
  },
  {
   "cell_type": "code",
   "execution_count": 131,
   "metadata": {},
   "outputs": [],
   "source": [
    "def load_alignments(path:str) -> List[str]:\n",
    "    with open(path, 'r') as f:\n",
    "        lines = f.readlines()\n",
    "    tokens = []\n",
    "    for line in lines:\n",
    "        line = line.split()\n",
    "        if line[2] != 'sil':\n",
    "            tokens = [*tokens,' ',line[2]]\n",
    "    return char_to_num(tf.reshape(tf.strings.unicode_split(tokens, input_encoding='UTF-8'), (-1)))[1:]"
   ]
  },
  {
   "cell_type": "code",
   "execution_count": 132,
   "metadata": {},
   "outputs": [],
   "source": [
    "def load_data(path: str):\n",
    "    path = bytes.decode(path.numpy())\n",
    "    file_name = path.split(\"\\\\\")[-1].split('.')[0]\n",
    "    video_path = os.path.join('data','s1',f'{file_name}.mpg')\n",
    "    alignment_path = os.path.join('data','alignments','s1',f'{file_name}.align')\n",
    "    frames = load_video(video_path)\n",
    "    alignments = load_alignments(alignment_path)\n",
    "\n",
    "    return frames, alignments"
   ]
  },
  {
   "cell_type": "code",
   "execution_count": 133,
   "metadata": {},
   "outputs": [],
   "source": [
    "def mappable_function(path:str) -> List[str]:\n",
    "    result = tf.py_function(load_data, [path], (tf.float32, tf.int64))\n",
    "    return result"
   ]
  },
  {
   "cell_type": "code",
   "execution_count": 134,
   "metadata": {},
   "outputs": [],
   "source": [
    "data = tf.data.Dataset.list_files(r'data\\s1\\*.mpg')\n",
    "data = data.shuffle(500, reshuffle_each_iteration=False)\n",
    "data = data.map(mappable_function)\n",
    "data = data.padded_batch(2, padded_shapes=([75,None,None,None],[40]))\n",
    "data = data.prefetch(tf.data.AUTOTUNE)\n",
    "\n",
    "train = data.take(450)\n",
    "test = data.skip(450)"
   ]
  },
  {
   "cell_type": "code",
   "execution_count": 135,
   "metadata": {},
   "outputs": [],
   "source": [
    "frames, alignments = data.as_numpy_iterator().next()"
   ]
  },
  {
   "cell_type": "code",
   "execution_count": 136,
   "metadata": {},
   "outputs": [
    {
     "data": {
      "text/plain": [
       "2"
      ]
     },
     "execution_count": 136,
     "metadata": {},
     "output_type": "execute_result"
    }
   ],
   "source": [
    "len(frames)"
   ]
  },
  {
   "cell_type": "code",
   "execution_count": 140,
   "metadata": {},
   "outputs": [],
   "source": [
    "from tensorflow.keras import layers, models, optimizers"
   ]
  },
  {
   "cell_type": "code",
   "execution_count": 141,
   "metadata": {},
   "outputs": [],
   "source": [
    "#reference: Training Strategies for Improved Lip-Reading, Pingchuan Ma, Yujiang Wang, Stavros Petridis, Jie Shen, Maja Pantic Imperial College London, Meta AI, UK"
   ]
  },
  {
   "cell_type": "code",
   "execution_count": 142,
   "metadata": {},
   "outputs": [],
   "source": [
    "# Define the MS-TCN block\n",
    "def mstcn_block(x, filters, kernel_sizes):\n",
    "    branches = []\n",
    "    for kernel_size in kernel_sizes:\n",
    "        branch = layers.Conv3D(filters, \n",
    "                               (1, kernel_size, kernel_size), \n",
    "                               padding='same', \n",
    "                               activation='relu')(x)\n",
    "        branches.append(branch)\n",
    "    return layers.concatenate(branches, axis=4)\n",
    "\n",
    "# Define the DC-TCN block\n",
    "def dctcn_block(x, filters, kernel_sizes, dilation_rates):\n",
    "    branches = []\n",
    "    for kernel_size, dilation_rate in zip(kernel_sizes, dilation_rates):\n",
    "        branch = layers.Conv3D(filters, \n",
    "                               (1, kernel_size, kernel_size), \n",
    "                               padding='same', \n",
    "                               dilation_rate=(1, dilation_rate, dilation_rate), \n",
    "                               activation='relu')(x)\n",
    "        branches.append(branch)\n",
    "    return layers.concatenate(branches, axis=4)\n",
    "        "
   ]
  },
  {
   "cell_type": "code",
   "execution_count": 143,
   "metadata": {},
   "outputs": [],
   "source": [
    "import tensorflow_addons as tfa"
   ]
  },
  {
   "cell_type": "code",
   "execution_count": 144,
   "metadata": {},
   "outputs": [],
   "source": [
    "from tensorflow.keras import layers, models\n",
    "\n",
    "# DC-TCN block\n",
    "def build_model(input_shape, num_classes):\n",
    "    inputs = layers.Input(shape=input_shape[1:])\n",
    "    x = inputs\n",
    "\n",
    "    # Temporal Models\n",
    "    for _ in range(2):\n",
    "        x = dctcn_block(x, filters=128, kernel_sizes=[3, 5, 7], dilation_rates=[1, 2, 5])\n",
    "    \n",
    "    # Reshape before GlobalAveragePooling3D\n",
    "    x = layers.Reshape((-1, input_shape[2], input_shape[3], 128))(x)\n",
    "    \n",
    "    # Global average pooling along the time and spatial dimensions\n",
    "    x = layers.GlobalAveragePooling3D()(x)\n",
    "    \n",
    "    # Output layer with the desired output size (41)\n",
    "    outputs = layers.Dense(num_classes, activation='softmax')(x)\n",
    "\n",
    "    model = models.Model(inputs, outputs)\n",
    "    \n",
    "    # AdamW optimizer\n",
    "    optimizer = tfa.optimizers.AdamW(learning_rate=3e-4, weight_decay=1e-4)\n",
    "    model.compile(optimizer, loss='categorical_crossentropy', metrics=['accuracy'])\n",
    "\n",
    "    return model"
   ]
  },
  {
   "cell_type": "code",
   "execution_count": 145,
   "metadata": {},
   "outputs": [
    {
     "name": "stdout",
     "output_type": "stream",
     "text": [
      "Model: \"model_4\"\n",
      "__________________________________________________________________________________________________\n",
      " Layer (type)                   Output Shape         Param #     Connected to                     \n",
      "==================================================================================================\n",
      " input_5 (InputLayer)           [(None, None, 100,   0           []                               \n",
      "                                200, 1)]                                                          \n",
      "                                                                                                  \n",
      " conv3d_24 (Conv3D)             (None, None, 100, 2  1280        ['input_5[0][0]']                \n",
      "                                00, 128)                                                          \n",
      "                                                                                                  \n",
      " conv3d_25 (Conv3D)             (None, None, 100, 2  3328        ['input_5[0][0]']                \n",
      "                                00, 128)                                                          \n",
      "                                                                                                  \n",
      " conv3d_26 (Conv3D)             (None, None, 100, 2  6400        ['input_5[0][0]']                \n",
      "                                00, 128)                                                          \n",
      "                                                                                                  \n",
      " concatenate_8 (Concatenate)    (None, None, 100, 2  0           ['conv3d_24[0][0]',              \n",
      "                                00, 384)                          'conv3d_25[0][0]',              \n",
      "                                                                  'conv3d_26[0][0]']              \n",
      "                                                                                                  \n",
      " conv3d_27 (Conv3D)             (None, None, 100, 2  442496      ['concatenate_8[0][0]']          \n",
      "                                00, 128)                                                          \n",
      "                                                                                                  \n",
      " conv3d_28 (Conv3D)             (None, None, 100, 2  1228928     ['concatenate_8[0][0]']          \n",
      "                                00, 128)                                                          \n",
      "                                                                                                  \n",
      " conv3d_29 (Conv3D)             (None, None, 100, 2  2408576     ['concatenate_8[0][0]']          \n",
      "                                00, 128)                                                          \n",
      "                                                                                                  \n",
      " concatenate_9 (Concatenate)    (None, None, 100, 2  0           ['conv3d_27[0][0]',              \n",
      "                                00, 384)                          'conv3d_28[0][0]',              \n",
      "                                                                  'conv3d_29[0][0]']              \n",
      "                                                                                                  \n",
      " reshape_4 (Reshape)            (None, None, 100, 2  0           ['concatenate_9[0][0]']          \n",
      "                                00, 128)                                                          \n",
      "                                                                                                  \n",
      " global_average_pooling3d_4 (Gl  (None, 128)         0           ['reshape_4[0][0]']              \n",
      " obalAveragePooling3D)                                                                            \n",
      "                                                                                                  \n",
      " dense_4 (Dense)                (None, 40)           5160        ['global_average_pooling3d_4[0][0\n",
      "                                                                 ]']                              \n",
      "                                                                                                  \n",
      "==================================================================================================\n",
      "Total params: 4,096,168\n",
      "Trainable params: 4,096,168\n",
      "Non-trainable params: 0\n",
      "__________________________________________________________________________________________________\n"
     ]
    }
   ],
   "source": [
    "model = build_model((None, None, 100, 200, 1), 40)\n",
    "model.summary()"
   ]
  },
  {
   "cell_type": "code",
   "execution_count": 146,
   "metadata": {},
   "outputs": [
    {
     "data": {
      "text/plain": [
       "(None, None, 100, 200, 1)"
      ]
     },
     "execution_count": 146,
     "metadata": {},
     "output_type": "execute_result"
    }
   ],
   "source": [
    "model.input_shape"
   ]
  },
  {
   "cell_type": "code",
   "execution_count": 147,
   "metadata": {},
   "outputs": [
    {
     "data": {
      "text/plain": [
       "(None, 40)"
      ]
     },
     "execution_count": 147,
     "metadata": {},
     "output_type": "execute_result"
    }
   ],
   "source": [
    "model.output_shape"
   ]
  },
  {
   "cell_type": "code",
   "execution_count": 148,
   "metadata": {},
   "outputs": [],
   "source": [
    "class ProduceExample(tf.keras.callbacks.Callback):\n",
    "    def __init__(self, dataset) -> None:\n",
    "        self.dataset = dataset.as_numpy_iterator()\n",
    "\n",
    "    def on_epoch_end(self, epoch, logs=None) -> None:\n",
    "        data = self.dataset.next()\n",
    "        yhat = self.model.predict(data[0])\n",
    "        decoded = tf.keras.backend.ctc_decode(yhat, [75,75], greedy=False)[0][0].numpy()\n",
    "        for x in range(len(yhat)):\n",
    "            print('Original:', tf.strings.reduce_join(num_to_char(data[1][x])).numpy().decode('utf-8'))\n",
    "            print('Prediction:', tf.strings.reduce_join(num_to_char(decoded[x])).numpy().decode('utf-8'))\n",
    "            print('~'*100)"
   ]
  },
  {
   "cell_type": "code",
   "execution_count": 149,
   "metadata": {},
   "outputs": [],
   "source": [
    "from tensorflow.keras.callbacks import ModelCheckpoint, LearningRateScheduler"
   ]
  },
  {
   "cell_type": "code",
   "execution_count": 150,
   "metadata": {},
   "outputs": [],
   "source": [
    "def scheduler(epoch, lr):\n",
    "    if epoch < 30:\n",
    "        return lr\n",
    "    else:\n",
    "        return lr * tf.math.exp(-0.1)"
   ]
  },
  {
   "cell_type": "code",
   "execution_count": 151,
   "metadata": {},
   "outputs": [],
   "source": [
    "checkpoint_callback = ModelCheckpoint(os.path.join('models','checkpoint'), monitor='loss', save_weights_only=True)\n",
    "schedule_callback = LearningRateScheduler(scheduler)"
   ]
  },
  {
   "cell_type": "code",
   "execution_count": 152,
   "metadata": {},
   "outputs": [],
   "source": [
    "example_callback = ProduceExample(test)"
   ]
  },
  {
   "cell_type": "code",
   "execution_count": 153,
   "metadata": {},
   "outputs": [
    {
     "data": {
      "text/plain": [
       "450"
      ]
     },
     "execution_count": 153,
     "metadata": {},
     "output_type": "execute_result"
    }
   ],
   "source": [
    "len(train)"
   ]
  },
  {
   "cell_type": "code",
   "execution_count": 154,
   "metadata": {},
   "outputs": [
    {
     "name": "stdout",
     "output_type": "stream",
     "text": [
      "Epoch 1/100\n"
     ]
    },
    {
     "name": "stdout",
     "output_type": "stream",
     "text": [
      "An error occurred during training:\n",
      "Graph execution error:\n",
      "\n",
      "Detected at node 'model_4/conv3d_29/Conv3D/SpaceToBatchND' defined at (most recent call last):\n",
      "    File \"c:\\Users\\Admin\\miniconda3\\envs\\tf\\lib\\runpy.py\", line 196, in _run_module_as_main\n",
      "      return _run_code(code, main_globals, None,\n",
      "    File \"c:\\Users\\Admin\\miniconda3\\envs\\tf\\lib\\runpy.py\", line 86, in _run_code\n",
      "      exec(code, run_globals)\n",
      "    File \"c:\\Users\\Admin\\miniconda3\\envs\\tf\\lib\\site-packages\\ipykernel_launcher.py\", line 17, in <module>\n",
      "      app.launch_new_instance()\n",
      "    File \"c:\\Users\\Admin\\miniconda3\\envs\\tf\\lib\\site-packages\\traitlets\\config\\application.py\", line 1053, in launch_instance\n",
      "      app.start()\n",
      "    File \"c:\\Users\\Admin\\miniconda3\\envs\\tf\\lib\\site-packages\\ipykernel\\kernelapp.py\", line 737, in start\n",
      "      self.io_loop.start()\n",
      "    File \"c:\\Users\\Admin\\miniconda3\\envs\\tf\\lib\\site-packages\\tornado\\platform\\asyncio.py\", line 215, in start\n",
      "      self.asyncio_loop.run_forever()\n",
      "    File \"c:\\Users\\Admin\\miniconda3\\envs\\tf\\lib\\asyncio\\base_events.py\", line 603, in run_forever\n",
      "      self._run_once()\n",
      "    File \"c:\\Users\\Admin\\miniconda3\\envs\\tf\\lib\\asyncio\\base_events.py\", line 1909, in _run_once\n",
      "      handle._run()\n",
      "    File \"c:\\Users\\Admin\\miniconda3\\envs\\tf\\lib\\asyncio\\events.py\", line 80, in _run\n",
      "      self._context.run(self._callback, *self._args)\n",
      "    File \"c:\\Users\\Admin\\miniconda3\\envs\\tf\\lib\\site-packages\\ipykernel\\kernelbase.py\", line 524, in dispatch_queue\n",
      "      await self.process_one()\n",
      "    File \"c:\\Users\\Admin\\miniconda3\\envs\\tf\\lib\\site-packages\\ipykernel\\kernelbase.py\", line 513, in process_one\n",
      "      await dispatch(*args)\n",
      "    File \"c:\\Users\\Admin\\miniconda3\\envs\\tf\\lib\\site-packages\\ipykernel\\kernelbase.py\", line 418, in dispatch_shell\n",
      "      await result\n",
      "    File \"c:\\Users\\Admin\\miniconda3\\envs\\tf\\lib\\site-packages\\ipykernel\\kernelbase.py\", line 758, in execute_request\n",
      "      reply_content = await reply_content\n",
      "    File \"c:\\Users\\Admin\\miniconda3\\envs\\tf\\lib\\site-packages\\ipykernel\\ipkernel.py\", line 426, in do_execute\n",
      "      res = shell.run_cell(\n",
      "    File \"c:\\Users\\Admin\\miniconda3\\envs\\tf\\lib\\site-packages\\ipykernel\\zmqshell.py\", line 549, in run_cell\n",
      "      return super().run_cell(*args, **kwargs)\n",
      "    File \"c:\\Users\\Admin\\miniconda3\\envs\\tf\\lib\\site-packages\\IPython\\core\\interactiveshell.py\", line 3046, in run_cell\n",
      "      result = self._run_cell(\n",
      "    File \"c:\\Users\\Admin\\miniconda3\\envs\\tf\\lib\\site-packages\\IPython\\core\\interactiveshell.py\", line 3101, in _run_cell\n",
      "      result = runner(coro)\n",
      "    File \"c:\\Users\\Admin\\miniconda3\\envs\\tf\\lib\\site-packages\\IPython\\core\\async_helpers.py\", line 129, in _pseudo_sync_runner\n",
      "      coro.send(None)\n",
      "    File \"c:\\Users\\Admin\\miniconda3\\envs\\tf\\lib\\site-packages\\IPython\\core\\interactiveshell.py\", line 3306, in run_cell_async\n",
      "      has_raised = await self.run_ast_nodes(code_ast.body, cell_name,\n",
      "    File \"c:\\Users\\Admin\\miniconda3\\envs\\tf\\lib\\site-packages\\IPython\\core\\interactiveshell.py\", line 3488, in run_ast_nodes\n",
      "      if await self.run_code(code, result, async_=asy):\n",
      "    File \"c:\\Users\\Admin\\miniconda3\\envs\\tf\\lib\\site-packages\\IPython\\core\\interactiveshell.py\", line 3548, in run_code\n",
      "      exec(code_obj, self.user_global_ns, self.user_ns)\n",
      "    File \"C:\\Users\\Admin\\AppData\\Local\\Temp\\ipykernel_19648\\2220352740.py\", line 3, in <module>\n",
      "      model.fit(train, validation_data=test, epochs=100, batch_size=32, callbacks=[checkpoint_callback, schedule_callback, example_callback, tensorboard_callback])\n",
      "    File \"c:\\Users\\Admin\\miniconda3\\envs\\tf\\lib\\site-packages\\keras\\utils\\traceback_utils.py\", line 65, in error_handler\n",
      "      return fn(*args, **kwargs)\n",
      "    File \"c:\\Users\\Admin\\miniconda3\\envs\\tf\\lib\\site-packages\\keras\\engine\\training.py\", line 1564, in fit\n",
      "      tmp_logs = self.train_function(iterator)\n",
      "    File \"c:\\Users\\Admin\\miniconda3\\envs\\tf\\lib\\site-packages\\keras\\engine\\training.py\", line 1160, in train_function\n",
      "      return step_function(self, iterator)\n",
      "    File \"c:\\Users\\Admin\\miniconda3\\envs\\tf\\lib\\site-packages\\keras\\engine\\training.py\", line 1146, in step_function\n",
      "      outputs = model.distribute_strategy.run(run_step, args=(data,))\n",
      "    File \"c:\\Users\\Admin\\miniconda3\\envs\\tf\\lib\\site-packages\\keras\\engine\\training.py\", line 1135, in run_step\n",
      "      outputs = model.train_step(data)\n",
      "    File \"c:\\Users\\Admin\\miniconda3\\envs\\tf\\lib\\site-packages\\keras\\engine\\training.py\", line 993, in train_step\n",
      "      y_pred = self(x, training=True)\n",
      "    File \"c:\\Users\\Admin\\miniconda3\\envs\\tf\\lib\\site-packages\\keras\\utils\\traceback_utils.py\", line 65, in error_handler\n",
      "      return fn(*args, **kwargs)\n",
      "    File \"c:\\Users\\Admin\\miniconda3\\envs\\tf\\lib\\site-packages\\keras\\engine\\training.py\", line 557, in __call__\n",
      "      return super().__call__(*args, **kwargs)\n",
      "    File \"c:\\Users\\Admin\\miniconda3\\envs\\tf\\lib\\site-packages\\keras\\utils\\traceback_utils.py\", line 65, in error_handler\n",
      "      return fn(*args, **kwargs)\n",
      "    File \"c:\\Users\\Admin\\miniconda3\\envs\\tf\\lib\\site-packages\\keras\\engine\\base_layer.py\", line 1097, in __call__\n",
      "      outputs = call_fn(inputs, *args, **kwargs)\n",
      "    File \"c:\\Users\\Admin\\miniconda3\\envs\\tf\\lib\\site-packages\\keras\\utils\\traceback_utils.py\", line 96, in error_handler\n",
      "      return fn(*args, **kwargs)\n",
      "    File \"c:\\Users\\Admin\\miniconda3\\envs\\tf\\lib\\site-packages\\keras\\engine\\functional.py\", line 510, in call\n",
      "      return self._run_internal_graph(inputs, training=training, mask=mask)\n",
      "    File \"c:\\Users\\Admin\\miniconda3\\envs\\tf\\lib\\site-packages\\keras\\engine\\functional.py\", line 667, in _run_internal_graph\n",
      "      outputs = node.layer(*args, **kwargs)\n",
      "    File \"c:\\Users\\Admin\\miniconda3\\envs\\tf\\lib\\site-packages\\keras\\utils\\traceback_utils.py\", line 65, in error_handler\n",
      "      return fn(*args, **kwargs)\n",
      "    File \"c:\\Users\\Admin\\miniconda3\\envs\\tf\\lib\\site-packages\\keras\\engine\\base_layer.py\", line 1097, in __call__\n",
      "      outputs = call_fn(inputs, *args, **kwargs)\n",
      "    File \"c:\\Users\\Admin\\miniconda3\\envs\\tf\\lib\\site-packages\\keras\\utils\\traceback_utils.py\", line 96, in error_handler\n",
      "      return fn(*args, **kwargs)\n",
      "    File \"c:\\Users\\Admin\\miniconda3\\envs\\tf\\lib\\site-packages\\keras\\layers\\convolutional\\base_conv.py\", line 283, in call\n",
      "      outputs = self.convolution_op(inputs, self.kernel)\n",
      "    File \"c:\\Users\\Admin\\miniconda3\\envs\\tf\\lib\\site-packages\\keras\\layers\\convolutional\\base_conv.py\", line 255, in convolution_op\n",
      "      return tf.nn.convolution(\n",
      "Node: 'model_4/conv3d_29/Conv3D/SpaceToBatchND'\n",
      "OOM when allocating tensor with shape[50,75,26,46,384] and type float on /job:localhost/replica:0/task:0/device:GPU:0 by allocator GPU_0_bfc\n",
      "\t [[{{node model_4/conv3d_29/Conv3D/SpaceToBatchND}}]]\n",
      "Hint: If you want to see a list of allocated tensors when OOM happens, add report_tensor_allocations_upon_oom to RunOptions for current allocation info. This isn't available when running in Eager mode.\n",
      " [Op:__inference_train_function_93130]\n"
     ]
    }
   ],
   "source": [
    "try:\n",
    "    tensorboard_callback = TensorBoard(log_dir='./logs', histogram_freq=1, profile_batch='500,520')\n",
    "    model.fit(train, validation_data=test, epochs=100, batch_size=32, callbacks=[checkpoint_callback, schedule_callback, example_callback, tensorboard_callback])\n",
    "\n",
    "    tf.debugging.experimental.disable_dump_debug_info()\n",
    "except Exception as e:\n",
    "    print(\"An error occurred during training:\")\n",
    "    print(str(e))"
   ]
  }
 ],
 "metadata": {
  "kernelspec": {
   "display_name": "Python 3",
   "language": "python",
   "name": "python3"
  },
  "language_info": {
   "codemirror_mode": {
    "name": "ipython",
    "version": 3
   },
   "file_extension": ".py",
   "mimetype": "text/x-python",
   "name": "python",
   "nbconvert_exporter": "python",
   "pygments_lexer": "ipython3",
   "version": "3.10.13"
  }
 },
 "nbformat": 4,
 "nbformat_minor": 2
}
